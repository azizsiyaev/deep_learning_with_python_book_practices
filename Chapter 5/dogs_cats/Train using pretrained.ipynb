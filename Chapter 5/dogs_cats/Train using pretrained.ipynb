{
 "cells": [
  {
   "cell_type": "code",
   "execution_count": 2,
   "metadata": {},
   "outputs": [
    {
     "name": "stderr",
     "output_type": "stream",
     "text": [
      "Using TensorFlow backend.\n"
     ]
    },
    {
     "name": "stdout",
     "output_type": "stream",
     "text": [
      "_________________________________________________________________\n",
      "Layer (type)                 Output Shape              Param #   \n",
      "=================================================================\n",
      "input_1 (InputLayer)         (None, 150, 150, 3)       0         \n",
      "_________________________________________________________________\n",
      "block1_conv1 (Conv2D)        (None, 150, 150, 64)      1792      \n",
      "_________________________________________________________________\n",
      "block1_conv2 (Conv2D)        (None, 150, 150, 64)      36928     \n",
      "_________________________________________________________________\n",
      "block1_pool (MaxPooling2D)   (None, 75, 75, 64)        0         \n",
      "_________________________________________________________________\n",
      "block2_conv1 (Conv2D)        (None, 75, 75, 128)       73856     \n",
      "_________________________________________________________________\n",
      "block2_conv2 (Conv2D)        (None, 75, 75, 128)       147584    \n",
      "_________________________________________________________________\n",
      "block2_pool (MaxPooling2D)   (None, 37, 37, 128)       0         \n",
      "_________________________________________________________________\n",
      "block3_conv1 (Conv2D)        (None, 37, 37, 256)       295168    \n",
      "_________________________________________________________________\n",
      "block3_conv2 (Conv2D)        (None, 37, 37, 256)       590080    \n",
      "_________________________________________________________________\n",
      "block3_conv3 (Conv2D)        (None, 37, 37, 256)       590080    \n",
      "_________________________________________________________________\n",
      "block3_pool (MaxPooling2D)   (None, 18, 18, 256)       0         \n",
      "_________________________________________________________________\n",
      "block4_conv1 (Conv2D)        (None, 18, 18, 512)       1180160   \n",
      "_________________________________________________________________\n",
      "block4_conv2 (Conv2D)        (None, 18, 18, 512)       2359808   \n",
      "_________________________________________________________________\n",
      "block4_conv3 (Conv2D)        (None, 18, 18, 512)       2359808   \n",
      "_________________________________________________________________\n",
      "block4_pool (MaxPooling2D)   (None, 9, 9, 512)         0         \n",
      "_________________________________________________________________\n",
      "block5_conv1 (Conv2D)        (None, 9, 9, 512)         2359808   \n",
      "_________________________________________________________________\n",
      "block5_conv2 (Conv2D)        (None, 9, 9, 512)         2359808   \n",
      "_________________________________________________________________\n",
      "block5_conv3 (Conv2D)        (None, 9, 9, 512)         2359808   \n",
      "_________________________________________________________________\n",
      "block5_pool (MaxPooling2D)   (None, 4, 4, 512)         0         \n",
      "=================================================================\n",
      "Total params: 14,714,688\n",
      "Trainable params: 14,714,688\n",
      "Non-trainable params: 0\n",
      "_________________________________________________________________\n"
     ]
    }
   ],
   "source": [
    "from keras.applications import VGG16\n",
    "\n",
    "conv_base = VGG16(weights = 'imagenet', \n",
    "                  include_top = False, \n",
    "                  input_shape = (150, 150, 3))\n",
    "\n",
    "conv_base.summary()"
   ]
  },
  {
   "cell_type": "markdown",
   "metadata": {},
   "source": [
    "**FAST\n",
    "FEATURE EXTRACTION WITHOUT DATA AUGMENTATION**"
   ]
  },
  {
   "cell_type": "code",
   "execution_count": 3,
   "metadata": {},
   "outputs": [],
   "source": [
    "import os \n",
    "import numpy as np\n",
    "from keras.preprocessing.image import ImageDataGenerator\n",
    "\n",
    "train_dir = 'cats_and_dogs_small/train'\n",
    "valid_dir = 'cats_and_dogs_small/validation'\n",
    "test_dir = 'cats_and_dogs_small/test'\n",
    "\n",
    "datagen = ImageDataGenerator(rescale = 1./255)\n",
    "batch_size = 20\n",
    "\n",
    "\n",
    "def extract_features(directory, sample_count):\n",
    "    features = np.zeros(shape = (sample_count, 4, 4, 512))\n",
    "    labels = np.zeros(shape = (sample_count))\n",
    "    generator = datagen.flow_from_directory(\n",
    "        directory, \n",
    "        target_size = (150, 150), \n",
    "        batch_size = batch_size, \n",
    "        class_mode = 'binary')\n",
    "    \n",
    "    i = 0\n",
    "    for input_batch, labels_batch in generator:\n",
    "        features_batch = conv_base.predict(input_batch)\n",
    "        features[i * batch_size : (i + 1) * batch_size] = features_batch\n",
    "        labels[i * batch_size : (i + 1) * batch_size] = labels_batch\n",
    "        i += 1\n",
    "        if i * batch_size >= sample_count:\n",
    "            break\n",
    "    return features, labels"
   ]
  },
  {
   "cell_type": "code",
   "execution_count": 4,
   "metadata": {},
   "outputs": [
    {
     "name": "stdout",
     "output_type": "stream",
     "text": [
      "Found 2000 images belonging to 2 classes.\n",
      "Found 1000 images belonging to 2 classes.\n",
      "Found 1000 images belonging to 2 classes.\n"
     ]
    }
   ],
   "source": [
    "train_features, train_labels = extract_features(train_dir, 2000)\n",
    "valid_features, valid_labels = extract_features(valid_dir, 1000)\n",
    "test_features, test_labels = extract_features(test_dir, 1000)"
   ]
  },
  {
   "cell_type": "code",
   "execution_count": 5,
   "metadata": {},
   "outputs": [
    {
     "name": "stdout",
     "output_type": "stream",
     "text": [
      "(2000, 4, 4, 512)\n"
     ]
    }
   ],
   "source": [
    "print(train_features.shape)"
   ]
  },
  {
   "cell_type": "code",
   "execution_count": 6,
   "metadata": {},
   "outputs": [],
   "source": [
    "from keras import models\n",
    "from keras import layers\n",
    "from keras import optimizers\n",
    "\n",
    "model = models.Sequential()\n",
    "model.add(layers.Flatten())\n",
    "model.add(layers.Dense(256, activation = 'relu', input_dim = 4 * 4 * 512))\n",
    "model.add(layers.Dropout(0.5))\n",
    "model.add(layers.Dense(1, activation = 'sigmoid'))"
   ]
  },
  {
   "cell_type": "code",
   "execution_count": 7,
   "metadata": {},
   "outputs": [],
   "source": [
    "model.compile(\n",
    "    optimizer = optimizers.RMSprop(lr = 2e-5), \n",
    "    loss = 'binary_crossentropy', \n",
    "    metrics = ['acc'])"
   ]
  },
  {
   "cell_type": "code",
   "execution_count": 8,
   "metadata": {
    "scrolled": true
   },
   "outputs": [
    {
     "name": "stdout",
     "output_type": "stream",
     "text": [
      "Train on 2000 samples, validate on 1000 samples\n",
      "Epoch 1/30\n",
      "2000/2000 [==============================] - 1s 488us/step - loss: 0.6148 - acc: 0.6490 - val_loss: 0.4518 - val_acc: 0.8210\n",
      "Epoch 2/30\n",
      "2000/2000 [==============================] - 1s 261us/step - loss: 0.4352 - acc: 0.8005 - val_loss: 0.3670 - val_acc: 0.8620\n",
      "Epoch 3/30\n",
      "2000/2000 [==============================] - 0s 221us/step - loss: 0.3616 - acc: 0.8450 - val_loss: 0.3261 - val_acc: 0.8680\n",
      "Epoch 4/30\n",
      "2000/2000 [==============================] - 0s 186us/step - loss: 0.3179 - acc: 0.8720 - val_loss: 0.3032 - val_acc: 0.8700\n",
      "Epoch 5/30\n",
      "2000/2000 [==============================] - 0s 181us/step - loss: 0.2891 - acc: 0.8840 - val_loss: 0.2893 - val_acc: 0.8890\n",
      "Epoch 6/30\n",
      "2000/2000 [==============================] - 0s 200us/step - loss: 0.2676 - acc: 0.8955 - val_loss: 0.2728 - val_acc: 0.8880\n",
      "Epoch 7/30\n",
      "2000/2000 [==============================] - 0s 214us/step - loss: 0.2502 - acc: 0.8985 - val_loss: 0.2640 - val_acc: 0.8890\n",
      "Epoch 8/30\n",
      "2000/2000 [==============================] - 1s 314us/step - loss: 0.2317 - acc: 0.9150 - val_loss: 0.2570 - val_acc: 0.8910\n",
      "Epoch 9/30\n",
      "2000/2000 [==============================] - 1s 267us/step - loss: 0.2240 - acc: 0.9150 - val_loss: 0.2536 - val_acc: 0.8900\n",
      "Epoch 10/30\n",
      "2000/2000 [==============================] - 0s 223us/step - loss: 0.2085 - acc: 0.9235 - val_loss: 0.2513 - val_acc: 0.8910\n",
      "Epoch 11/30\n",
      "2000/2000 [==============================] - 0s 226us/step - loss: 0.2002 - acc: 0.9205 - val_loss: 0.2441 - val_acc: 0.9000\n",
      "Epoch 12/30\n",
      "2000/2000 [==============================] - 1s 252us/step - loss: 0.1882 - acc: 0.9285 - val_loss: 0.2432 - val_acc: 0.9010\n",
      "Epoch 13/30\n",
      "2000/2000 [==============================] - 0s 228us/step - loss: 0.1790 - acc: 0.9360 - val_loss: 0.2488 - val_acc: 0.8910\n",
      "Epoch 14/30\n",
      "2000/2000 [==============================] - 0s 185us/step - loss: 0.1760 - acc: 0.9335 - val_loss: 0.2380 - val_acc: 0.9010\n",
      "Epoch 15/30\n",
      "2000/2000 [==============================] - 0s 190us/step - loss: 0.1644 - acc: 0.9380 - val_loss: 0.2363 - val_acc: 0.9040\n",
      "Epoch 16/30\n",
      "2000/2000 [==============================] - 0s 193us/step - loss: 0.1532 - acc: 0.9440 - val_loss: 0.2482 - val_acc: 0.8890\n",
      "Epoch 17/30\n",
      "2000/2000 [==============================] - 0s 224us/step - loss: 0.1488 - acc: 0.9465 - val_loss: 0.2492 - val_acc: 0.8880\n",
      "Epoch 18/30\n",
      "2000/2000 [==============================] - 0s 208us/step - loss: 0.1453 - acc: 0.9500 - val_loss: 0.2367 - val_acc: 0.9000\n",
      "Epoch 19/30\n",
      "2000/2000 [==============================] - 0s 206us/step - loss: 0.1368 - acc: 0.9535 - val_loss: 0.2408 - val_acc: 0.8980\n",
      "Epoch 20/30\n",
      "2000/2000 [==============================] - 0s 215us/step - loss: 0.1319 - acc: 0.9540 - val_loss: 0.2363 - val_acc: 0.9000\n",
      "Epoch 21/30\n",
      "2000/2000 [==============================] - 0s 217us/step - loss: 0.1258 - acc: 0.9590 - val_loss: 0.2446 - val_acc: 0.8950\n",
      "Epoch 22/30\n",
      "2000/2000 [==============================] - 1s 259us/step - loss: 0.1238 - acc: 0.9580 - val_loss: 0.2318 - val_acc: 0.9040\n",
      "Epoch 23/30\n",
      "2000/2000 [==============================] - 0s 237us/step - loss: 0.1145 - acc: 0.9670 - val_loss: 0.2339 - val_acc: 0.9030\n",
      "Epoch 24/30\n",
      "2000/2000 [==============================] - 0s 234us/step - loss: 0.1149 - acc: 0.9625 - val_loss: 0.2331 - val_acc: 0.8990\n",
      "Epoch 25/30\n",
      "2000/2000 [==============================] - 0s 180us/step - loss: 0.1064 - acc: 0.9650 - val_loss: 0.2321 - val_acc: 0.9000\n",
      "Epoch 26/30\n",
      "2000/2000 [==============================] - 0s 212us/step - loss: 0.1056 - acc: 0.9670 - val_loss: 0.2322 - val_acc: 0.9010\n",
      "Epoch 27/30\n",
      "2000/2000 [==============================] - 0s 224us/step - loss: 0.1007 - acc: 0.9695 - val_loss: 0.2325 - val_acc: 0.9040\n",
      "Epoch 28/30\n",
      "2000/2000 [==============================] - 0s 230us/step - loss: 0.0913 - acc: 0.9725 - val_loss: 0.2348 - val_acc: 0.9010\n",
      "Epoch 29/30\n",
      "2000/2000 [==============================] - 0s 192us/step - loss: 0.0912 - acc: 0.9745 - val_loss: 0.2583 - val_acc: 0.8890\n",
      "Epoch 30/30\n",
      "2000/2000 [==============================] - 0s 195us/step - loss: 0.0871 - acc: 0.9735 - val_loss: 0.2367 - val_acc: 0.9020\n"
     ]
    }
   ],
   "source": [
    "history = model.fit(train_features, \n",
    "                    train_labels, \n",
    "                    epochs = 30, \n",
    "                    batch_size = 20, \n",
    "                    validation_data = (valid_features, valid_labels))"
   ]
  },
  {
   "cell_type": "code",
   "execution_count": 9,
   "metadata": {},
   "outputs": [
    {
     "data": {
      "image/png": "[encoded data removed]",
      "text/plain": [
       "<Figure size 432x288 with 1 Axes>"
      ]
     },
     "metadata": {
      "needs_background": "light"
     },
     "output_type": "display_data"
    },
    {
     "data": {
      "image/png": "[encoded data removed]",
      "text/plain": [
       "<Figure size 432x288 with 1 Axes>"
      ]
     },
     "metadata": {
      "needs_background": "light"
     },
     "output_type": "display_data"
    }
   ],
   "source": [
    "import matplotlib.pyplot as plt\n",
    "%matplotlib inline\n",
    "\n",
    "acc = history.history['acc']\n",
    "val_acc = history.history['val_acc']\n",
    "loss = history.history['loss']\n",
    "val_loss = history.history['val_loss']\n",
    "epochs = range(1, len(acc) + 1)\n",
    "plt.plot(epochs, acc, 'bo', label='Training acc')\n",
    "plt.plot(epochs, val_acc, 'b', label='Validation acc')\n",
    "plt.title('Training and validation accuracy')\n",
    "plt.legend()\n",
    "plt.figure()\n",
    "plt.plot(epochs, loss, 'bo', label='Training loss')\n",
    "plt.plot(epochs, val_loss, 'b', label='Validation loss')\n",
    "plt.title('Training and validation loss')\n",
    "plt.legend()\n",
    "plt.show()"
   ]
  },
  {
   "cell_type": "markdown",
   "metadata": {},
   "source": [
    "**FEATURE EXTRACTION\n",
    "WITH DATA AUGMENTATION**"
   ]
  },
  {
   "cell_type": "code",
   "execution_count": 10,
   "metadata": {},
   "outputs": [
    {
     "name": "stdout",
     "output_type": "stream",
     "text": [
      "_________________________________________________________________\n",
      "Layer (type)                 Output Shape              Param #   \n",
      "=================================================================\n",
      "vgg16 (Model)                (None, 4, 4, 512)         14714688  \n",
      "_________________________________________________________________\n",
      "flatten_2 (Flatten)          (None, 8192)              0         \n",
      "_________________________________________________________________\n",
      "dense_3 (Dense)              (None, 265)               2171145   \n",
      "_________________________________________________________________\n",
      "dense_4 (Dense)              (None, 1)                 266       \n",
      "=================================================================\n",
      "Total params: 16,886,099\n",
      "Trainable params: 16,886,099\n",
      "Non-trainable params: 0\n",
      "_________________________________________________________________\n"
     ]
    }
   ],
   "source": [
    "from keras import models\n",
    "from keras import layers\n",
    "\n",
    "model = models.Sequential()\n",
    "model.add(conv_base)\n",
    "model.add(layers.Flatten())\n",
    "model.add(layers.Dense(265, activation = 'relu'))\n",
    "model.add(layers.Dense(1, activation = 'sigmoid'))\n",
    "\n",
    "\n",
    "model.summary()"
   ]
  },
  {
   "cell_type": "markdown",
   "metadata": {},
   "source": [
    "**Freeze conv layers**"
   ]
  },
  {
   "cell_type": "code",
   "execution_count": 11,
   "metadata": {},
   "outputs": [
    {
     "name": "stdout",
     "output_type": "stream",
     "text": [
      "Before freezing  30\n"
     ]
    }
   ],
   "source": [
    "print(\"Before freezing \", len(model.trainable_weights))"
   ]
  },
  {
   "cell_type": "code",
   "execution_count": 12,
   "metadata": {},
   "outputs": [],
   "source": [
    "conv_base.trainable = False"
   ]
  },
  {
   "cell_type": "code",
   "execution_count": 13,
   "metadata": {},
   "outputs": [
    {
     "name": "stdout",
     "output_type": "stream",
     "text": [
      "After freezing  4\n"
     ]
    }
   ],
   "source": [
    "print(\"After freezing \", len(model.trainable_weights))"
   ]
  },
  {
   "cell_type": "code",
   "execution_count": 14,
   "metadata": {},
   "outputs": [
    {
     "name": "stdout",
     "output_type": "stream",
     "text": [
      "Found 2000 images belonging to 2 classes.\n",
      "Found 1000 images belonging to 2 classes.\n"
     ]
    }
   ],
   "source": [
    "from keras.preprocessing.image import ImageDataGenerator\n",
    "from keras import optimizers\n",
    "\n",
    "train_datagen = ImageDataGenerator(\n",
    "    rescale=1./255, \n",
    "    rotation_range=40, \n",
    "    width_shift_range=0.2, \n",
    "    height_shift_range=0.2, \n",
    "    shear_range=0.2, \n",
    "    zoom_range=0.2, \n",
    "    horizontal_flip=True, \n",
    "    fill_mode='nearest')\n",
    "\n",
    "test_datagen = ImageDataGenerator(rescale=1./255)\n",
    "\n",
    "train_generator = train_datagen.flow_from_directory(\n",
    "    train_dir, \n",
    "    target_size=(150, 150), \n",
    "    batch_size=20, \n",
    "    class_mode='binary')\n",
    "\n",
    "validation_generator = test_datagen.flow_from_directory(\n",
    "    valid_dir, \n",
    "    target_size=(150, 150), \n",
    "    batch_size=20, \n",
    "    class_mode='binary')\n"
   ]
  },
  {
   "cell_type": "code",
   "execution_count": 15,
   "metadata": {},
   "outputs": [],
   "source": [
    "model.compile(\n",
    "    optimizer = optimizers.RMSprop(lr = 2e-5), \n",
    "    loss = 'binary_crossentropy', \n",
    "    metrics = ['acc'])"
   ]
  },
  {
   "cell_type": "code",
   "execution_count": 16,
   "metadata": {
    "scrolled": false
   },
   "outputs": [
    {
     "name": "stdout",
     "output_type": "stream",
     "text": [
      "Epoch 1/30\n",
      "100/100 [==============================] - 21s 207ms/step - loss: 0.5869 - acc: 0.6950 - val_loss: 0.4644 - val_acc: 0.8000\n",
      "Epoch 2/30\n",
      "100/100 [==============================] - 19s 194ms/step - loss: 0.4825 - acc: 0.7995 - val_loss: 0.3695 - val_acc: 0.8670\n",
      "Epoch 3/30\n",
      "100/100 [==============================] - 19s 190ms/step - loss: 0.4151 - acc: 0.8255 - val_loss: 0.3266 - val_acc: 0.8760\n",
      "Epoch 4/30\n",
      "100/100 [==============================] - 19s 191ms/step - loss: 0.3923 - acc: 0.8315 - val_loss: 0.3033 - val_acc: 0.8870\n",
      "Epoch 5/30\n",
      "100/100 [==============================] - 19s 191ms/step - loss: 0.3818 - acc: 0.8310 - val_loss: 0.2894 - val_acc: 0.8890\n",
      "Epoch 6/30\n",
      "100/100 [==============================] - 19s 192ms/step - loss: 0.3769 - acc: 0.8345 - val_loss: 0.2809 - val_acc: 0.8890\n",
      "Epoch 7/30\n",
      "100/100 [==============================] - 19s 191ms/step - loss: 0.3599 - acc: 0.8425 - val_loss: 0.2744 - val_acc: 0.8890\n",
      "Epoch 8/30\n",
      "100/100 [==============================] - 19s 191ms/step - loss: 0.3368 - acc: 0.8570 - val_loss: 0.2666 - val_acc: 0.8880\n",
      "Epoch 9/30\n",
      "100/100 [==============================] - 19s 191ms/step - loss: 0.3437 - acc: 0.8480 - val_loss: 0.2635 - val_acc: 0.8890\n",
      "Epoch 10/30\n",
      "100/100 [==============================] - 19s 191ms/step - loss: 0.3378 - acc: 0.8535 - val_loss: 0.2817 - val_acc: 0.8800\n",
      "Epoch 11/30\n",
      "100/100 [==============================] - 19s 191ms/step - loss: 0.3279 - acc: 0.8550 - val_loss: 0.2591 - val_acc: 0.8920\n",
      "Epoch 12/30\n",
      "100/100 [==============================] - 19s 187ms/step - loss: 0.3303 - acc: 0.8610 - val_loss: 0.2567 - val_acc: 0.8930\n",
      "Epoch 13/30\n",
      "100/100 [==============================] - 19s 188ms/step - loss: 0.3069 - acc: 0.8700 - val_loss: 0.2540 - val_acc: 0.8920\n",
      "Epoch 14/30\n",
      "100/100 [==============================] - 19s 187ms/step - loss: 0.3155 - acc: 0.8640 - val_loss: 0.2545 - val_acc: 0.8920\n",
      "Epoch 15/30\n",
      "100/100 [==============================] - 19s 188ms/step - loss: 0.3135 - acc: 0.8650 - val_loss: 0.2495 - val_acc: 0.8990\n",
      "Epoch 16/30\n",
      "100/100 [==============================] - 19s 188ms/step - loss: 0.3103 - acc: 0.8660 - val_loss: 0.2502 - val_acc: 0.8910\n",
      "Epoch 17/30\n",
      "100/100 [==============================] - 19s 188ms/step - loss: 0.3075 - acc: 0.8655 - val_loss: 0.2488 - val_acc: 0.8950\n",
      "Epoch 18/30\n",
      "100/100 [==============================] - 19s 190ms/step - loss: 0.3033 - acc: 0.8650 - val_loss: 0.2589 - val_acc: 0.8880\n",
      "Epoch 19/30\n",
      "100/100 [==============================] - 19s 192ms/step - loss: 0.2851 - acc: 0.8790 - val_loss: 0.2468 - val_acc: 0.9030\n",
      "Epoch 20/30\n",
      "100/100 [==============================] - 19s 190ms/step - loss: 0.3095 - acc: 0.8645 - val_loss: 0.2520 - val_acc: 0.8930\n",
      "Epoch 21/30\n",
      "100/100 [==============================] - 19s 190ms/step - loss: 0.2846 - acc: 0.8715 - val_loss: 0.2467 - val_acc: 0.9050\n",
      "Epoch 22/30\n",
      "100/100 [==============================] - 19s 187ms/step - loss: 0.2944 - acc: 0.8710 - val_loss: 0.2535 - val_acc: 0.8970\n",
      "Epoch 23/30\n",
      "100/100 [==============================] - 19s 187ms/step - loss: 0.2862 - acc: 0.8770 - val_loss: 0.2481 - val_acc: 0.8970\n",
      "Epoch 24/30\n",
      "100/100 [==============================] - 19s 192ms/step - loss: 0.2884 - acc: 0.8740 - val_loss: 0.2450 - val_acc: 0.8970\n",
      "Epoch 25/30\n",
      "100/100 [==============================] - 19s 189ms/step - loss: 0.2861 - acc: 0.8735 - val_loss: 0.2454 - val_acc: 0.8990\n",
      "Epoch 26/30\n",
      "100/100 [==============================] - 19s 189ms/step - loss: 0.3013 - acc: 0.8600 - val_loss: 0.2421 - val_acc: 0.9040\n",
      "Epoch 27/30\n",
      "100/100 [==============================] - 19s 191ms/step - loss: 0.2845 - acc: 0.8780 - val_loss: 0.2399 - val_acc: 0.9000\n",
      "Epoch 28/30\n",
      "100/100 [==============================] - 19s 188ms/step - loss: 0.2896 - acc: 0.8750 - val_loss: 0.2430 - val_acc: 0.8990\n",
      "Epoch 29/30\n",
      "100/100 [==============================] - 19s 190ms/step - loss: 0.2814 - acc: 0.8790 - val_loss: 0.2435 - val_acc: 0.8990\n",
      "Epoch 30/30\n",
      "100/100 [==============================] - 19s 191ms/step - loss: 0.2782 - acc: 0.8825 - val_loss: 0.2430 - val_acc: 0.9010\n"
     ]
    }
   ],
   "source": [
    "history = model.fit_generator(\n",
    "    train_generator, \n",
    "    steps_per_epoch = 100, \n",
    "    epochs = 30, \n",
    "    validation_data = validation_generator, \n",
    "    validation_steps = 50)"
   ]
  },
  {
   "cell_type": "code",
   "execution_count": 17,
   "metadata": {},
   "outputs": [
    {
     "data": {
      "image/png": "[encoded data removed]",
      "text/plain": [
       "<Figure size 432x288 with 1 Axes>"
      ]
     },
     "metadata": {
      "needs_background": "light"
     },
     "output_type": "display_data"
    },
    {
     "data": {
      "image/png": "[encoded data removed]",
      "text/plain": [
       "<Figure size 432x288 with 1 Axes>"
      ]
     },
     "metadata": {
      "needs_background": "light"
     },
     "output_type": "display_data"
    }
   ],
   "source": [
    "import matplotlib.pyplot as plt\n",
    "%matplotlib inline\n",
    "\n",
    "\n",
    "acc = history.history['acc']\n",
    "val_acc = history.history['val_acc']\n",
    "loss = history.history['loss']\n",
    "val_loss = history.history['val_loss']\n",
    "epochs = range(1, len(acc) + 1)\n",
    "plt.plot(epochs, acc, 'bo', label='Training acc')\n",
    "plt.plot(epochs, val_acc, 'b', label='Validation acc')\n",
    "plt.title('Training and validation accuracy')\n",
    "plt.legend()\n",
    "plt.figure()\n",
    "plt.plot(epochs, loss, 'bo', label='Training loss')\n",
    "plt.plot(epochs, val_loss, 'b', label='Validation loss')\n",
    "plt.title('Training and validation loss')\n",
    "plt.legend()\n",
    "plt.show()"
   ]
  },
  {
   "cell_type": "markdown",
   "metadata": {},
   "source": [
    "**Fine-tuning**"
   ]
  },
  {
   "cell_type": "code",
   "execution_count": 18,
   "metadata": {},
   "outputs": [
    {
     "name": "stdout",
     "output_type": "stream",
     "text": [
      "_________________________________________________________________\n",
      "Layer (type)                 Output Shape              Param #   \n",
      "=================================================================\n",
      "input_1 (InputLayer)         (None, 150, 150, 3)       0         \n",
      "_________________________________________________________________\n",
      "block1_conv1 (Conv2D)        (None, 150, 150, 64)      1792      \n",
      "_________________________________________________________________\n",
      "block1_conv2 (Conv2D)        (None, 150, 150, 64)      36928     \n",
      "_________________________________________________________________\n",
      "block1_pool (MaxPooling2D)   (None, 75, 75, 64)        0         \n",
      "_________________________________________________________________\n",
      "block2_conv1 (Conv2D)        (None, 75, 75, 128)       73856     \n",
      "_________________________________________________________________\n",
      "block2_conv2 (Conv2D)        (None, 75, 75, 128)       147584    \n",
      "_________________________________________________________________\n",
      "block2_pool (MaxPooling2D)   (None, 37, 37, 128)       0         \n",
      "_________________________________________________________________\n",
      "block3_conv1 (Conv2D)        (None, 37, 37, 256)       295168    \n",
      "_________________________________________________________________\n",
      "block3_conv2 (Conv2D)        (None, 37, 37, 256)       590080    \n",
      "_________________________________________________________________\n",
      "block3_conv3 (Conv2D)        (None, 37, 37, 256)       590080    \n",
      "_________________________________________________________________\n",
      "block3_pool (MaxPooling2D)   (None, 18, 18, 256)       0         \n",
      "_________________________________________________________________\n",
      "block4_conv1 (Conv2D)        (None, 18, 18, 512)       1180160   \n",
      "_________________________________________________________________\n",
      "block4_conv2 (Conv2D)        (None, 18, 18, 512)       2359808   \n",
      "_________________________________________________________________\n",
      "block4_conv3 (Conv2D)        (None, 18, 18, 512)       2359808   \n",
      "_________________________________________________________________\n",
      "block4_pool (MaxPooling2D)   (None, 9, 9, 512)         0         \n",
      "_________________________________________________________________\n",
      "block5_conv1 (Conv2D)        (None, 9, 9, 512)         2359808   \n",
      "_________________________________________________________________\n",
      "block5_conv2 (Conv2D)        (None, 9, 9, 512)         2359808   \n",
      "_________________________________________________________________\n",
      "block5_conv3 (Conv2D)        (None, 9, 9, 512)         2359808   \n",
      "_________________________________________________________________\n",
      "block5_pool (MaxPooling2D)   (None, 4, 4, 512)         0         \n",
      "=================================================================\n",
      "Total params: 14,714,688\n",
      "Trainable params: 0\n",
      "Non-trainable params: 14,714,688\n",
      "_________________________________________________________________\n"
     ]
    }
   ],
   "source": [
    "conv_base.summary()"
   ]
  },
  {
   "cell_type": "code",
   "execution_count": 19,
   "metadata": {},
   "outputs": [],
   "source": [
    "conv_base.trainable = True\n",
    "\n",
    "set_trainable = False\n",
    "\n",
    "for layer in conv_base.layers:\n",
    "    if layer.name == 'block5_conv1':\n",
    "        set_trainable = True\n",
    "    if set_trainable:\n",
    "        layer.trainable = True\n",
    "    else:\n",
    "        layer.trainable = False"
   ]
  },
  {
   "cell_type": "code",
   "execution_count": 20,
   "metadata": {},
   "outputs": [],
   "source": [
    "model.compile(loss = 'binary_crossentropy', \n",
    "              optimizer = optimizers.RMSprop(lr = 1e-5), \n",
    "              metrics = ['acc'])"
   ]
  },
  {
   "cell_type": "code",
   "execution_count": null,
   "metadata": {},
   "outputs": [
    {
     "name": "stdout",
     "output_type": "stream",
     "text": [
      "Epoch 1/30\n"
     ]
    }
   ],
   "source": [
    "history = model.fit_generator(\n",
    "    train_generator, \n",
    "    steps_per_epoch = 100, \n",
    "    epochs = 30, \n",
    "    validation_data = validation_generator, \n",
    "    validation_steps = 50)"
   ]
  },
  {
   "cell_type": "code",
   "execution_count": 1,
   "metadata": {
    "collapsed": true
   },
   "outputs": [
    {
     "ename": "NameError",
     "evalue": "name 'test_datagen' is not defined",
     "output_type": "error",
     "traceback": [
      "\u001b[0;31m---------------------------------------------------------------------------\u001b[0m",
      "\u001b[0;31mNameError\u001b[0m                                 Traceback (most recent call last)",
      "\u001b[0;32m<ipython-input-1-6d3b1ae57759>\u001b[0m in \u001b[0;36m<module>\u001b[0;34m\u001b[0m\n\u001b[0;32m----> 1\u001b[0;31m test_generator = test_datagen.flow_from_directory(\n\u001b[0m\u001b[1;32m      2\u001b[0m     \u001b[0mtest_dir\u001b[0m\u001b[0;34m,\u001b[0m\u001b[0;34m\u001b[0m\u001b[0m\n\u001b[1;32m      3\u001b[0m     \u001b[0mtarget_size\u001b[0m\u001b[0;34m=\u001b[0m\u001b[0;34m(\u001b[0m\u001b[0;36m150\u001b[0m\u001b[0;34m,\u001b[0m \u001b[0;36m150\u001b[0m\u001b[0;34m)\u001b[0m\u001b[0;34m,\u001b[0m\u001b[0;34m\u001b[0m\u001b[0m\n\u001b[1;32m      4\u001b[0m     \u001b[0mbatch_size\u001b[0m\u001b[0;34m=\u001b[0m\u001b[0;36m20\u001b[0m\u001b[0;34m,\u001b[0m\u001b[0;34m\u001b[0m\u001b[0m\n\u001b[1;32m      5\u001b[0m     class_mode='binary')\n",
      "\u001b[0;31mNameError\u001b[0m: name 'test_datagen' is not defined"
     ]
    }
   ],
   "source": [
    "test_generator = test_datagen.flow_from_directory(\n",
    "    test_dir, \n",
    "    target_size=(150, 150), \n",
    "    batch_size=20, \n",
    "    class_mode='binary')\n",
    "\n",
    "test_loss, test_acc = model.evaluate_generator(test_generator, steps=50)\n",
    "print('test acc:', test_acc)"
   ]
  },
  {
   "cell_type": "code",
   "execution_count": null,
   "metadata": {},
   "outputs": [],
   "source": []
  }
 ],
 "metadata": {
  "kernelspec": {
   "display_name": "Python 3",
   "language": "python",
   "name": "python3"
  },
  "language_info": {
   "codemirror_mode": {
    "name": "ipython",
    "version": 3
   },
   "file_extension": ".py",
   "mimetype": "text/x-python",
   "name": "python",
   "nbconvert_exporter": "python",
   "pygments_lexer": "ipython3",
   "version": "3.5.2"
  }
 },
 "nbformat": 4,
 "nbformat_minor": 2
}
