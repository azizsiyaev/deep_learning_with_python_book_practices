{
 "cells": [
  {
   "cell_type": "code",
   "execution_count": 2,
   "metadata": {},
   "outputs": [
    {
     "name": "stdout",
     "output_type": "stream",
     "text": [
      "Uninstalling tensorflow-1.10.0:\n",
      "  Successfully uninstalled tensorflow-1.10.0\n"
     ]
    }
   ],
   "source": [
    "!pip uninstall -y tensorflow"
   ]
  },
  {
   "cell_type": "code",
   "execution_count": 4,
   "metadata": {},
   "outputs": [
    {
     "name": "stdout",
     "output_type": "stream",
     "text": [
      "Collecting tensorflow-gpu==1.10.0\n",
      "\u001b[?25l  Downloading https://files.pythonhosted.org/packages/95/12/b99498a549510be310fb38d5b386212fe8ba69a24ac8b56b0c18e331826d/tensorflow_gpu-1.10.0-cp35-cp35m-manylinux1_x86_64.whl (253.2MB)\n",
      "\u001b[K    100% |################################| 253.3MB 271kB/s ta 0:00:012    30% |#########                       | 76.1MB 944kB/s eta 0:03:08\n",
      "\u001b[?25hRequirement already satisfied: numpy<=1.14.5,>=1.13.3 in /usr/local/lib/python3.5/dist-packages (from tensorflow-gpu==1.10.0) (1.14.5)\n",
      "Requirement already satisfied: setuptools<=39.1.0 in /usr/local/lib/python3.5/dist-packages (from tensorflow-gpu==1.10.0) (39.1.0)\n",
      "Requirement already satisfied: grpcio>=1.8.6 in /usr/local/lib/python3.5/dist-packages (from tensorflow-gpu==1.10.0) (1.16.0)\n",
      "Requirement already satisfied: protobuf>=3.6.0 in /usr/local/lib/python3.5/dist-packages (from tensorflow-gpu==1.10.0) (3.6.1)\n",
      "Requirement already satisfied: astor>=0.6.0 in /usr/local/lib/python3.5/dist-packages (from tensorflow-gpu==1.10.0) (0.7.1)\n",
      "Requirement already satisfied: wheel>=0.26 in /usr/local/lib/python3.5/dist-packages (from tensorflow-gpu==1.10.0) (0.32.2)\n",
      "Requirement already satisfied: six>=1.10.0 in /usr/local/lib/python3.5/dist-packages (from tensorflow-gpu==1.10.0) (1.11.0)\n",
      "Requirement already satisfied: absl-py>=0.1.6 in /usr/local/lib/python3.5/dist-packages (from tensorflow-gpu==1.10.0) (0.6.1)\n",
      "Requirement already satisfied: termcolor>=1.1.0 in /usr/local/lib/python3.5/dist-packages (from tensorflow-gpu==1.10.0) (1.1.0)\n",
      "Requirement already satisfied: gast>=0.2.0 in /usr/local/lib/python3.5/dist-packages (from tensorflow-gpu==1.10.0) (0.2.0)\n",
      "Requirement already satisfied: tensorboard<1.11.0,>=1.10.0 in /usr/local/lib/python3.5/dist-packages (from tensorflow-gpu==1.10.0) (1.10.0)\n",
      "Requirement already satisfied: markdown>=2.6.8 in /usr/local/lib/python3.5/dist-packages (from tensorboard<1.11.0,>=1.10.0->tensorflow-gpu==1.10.0) (3.0.1)\n",
      "Requirement already satisfied: werkzeug>=0.11.10 in /usr/local/lib/python3.5/dist-packages (from tensorboard<1.11.0,>=1.10.0->tensorflow-gpu==1.10.0) (0.14.1)\n",
      "Installing collected packages: tensorflow-gpu\n",
      "  Found existing installation: tensorflow-gpu 1.12.0\n",
      "    Uninstalling tensorflow-gpu-1.12.0:\n",
      "      Successfully uninstalled tensorflow-gpu-1.12.0\n",
      "Successfully installed tensorflow-gpu-1.10.0\n"
     ]
    }
   ],
   "source": [
    "!pip install tensorflow-gpu==1.10.0"
   ]
  },
  {
   "cell_type": "code",
   "execution_count": 5,
   "metadata": {},
   "outputs": [
    {
     "name": "stdout",
     "output_type": "stream",
     "text": [
      "Get:1 file:/var/nvinfer-runtime-trt-repo-4.0.1-ga-cuda9.0  InRelease\n",
      "Ign:1 file:/var/nvinfer-runtime-trt-repo-4.0.1-ga-cuda9.0  InRelease\n",
      "Get:2 file:/var/nvinfer-runtime-trt-repo-4.0.1-ga-cuda9.0  Release [574 B]\n",
      "Get:2 file:/var/nvinfer-runtime-trt-repo-4.0.1-ga-cuda9.0  Release [574 B]\n",
      "Hit:4 http://archive.ubuntu.com/ubuntu xenial InRelease                        \n",
      "Get:5 http://security.ubuntu.com/ubuntu xenial-security InRelease [107 kB]\n",
      "Get:6 http://archive.ubuntu.com/ubuntu xenial-updates InRelease [109 kB]       \n",
      "Ign:7 https://developer.download.nvidia.com/compute/cuda/repos/ubuntu1604/x86_64  InRelease\n",
      "Ign:8 https://developer.download.nvidia.com/compute/machine-learning/repos/ubuntu1604/x86_64  InRelease\n",
      "Hit:9 https://developer.download.nvidia.com/compute/cuda/repos/ubuntu1604/x86_64  Release\n",
      "Hit:10 https://developer.download.nvidia.com/compute/machine-learning/repos/ubuntu1604/x86_64  Release\n",
      "Get:13 http://archive.ubuntu.com/ubuntu xenial-backports InRelease [107 kB]\n",
      "Fetched 323 kB in 2s (146 kB/s)   \n",
      "Reading package lists... Done\n"
     ]
    }
   ],
   "source": [
    "!apt-get update"
   ]
  },
  {
   "cell_type": "code",
   "execution_count": null,
   "metadata": {},
   "outputs": [],
   "source": []
  }
 ],
 "metadata": {
  "kernelspec": {
   "display_name": "Python 3",
   "language": "python",
   "name": "python3"
  },
  "language_info": {
   "codemirror_mode": {
    "name": "ipython",
    "version": 3
   },
   "file_extension": ".py",
   "mimetype": "text/x-python",
   "name": "python",
   "nbconvert_exporter": "python",
   "pygments_lexer": "ipython3",
   "version": "3.5.2"
  }
 },
 "nbformat": 4,
 "nbformat_minor": 2
}
