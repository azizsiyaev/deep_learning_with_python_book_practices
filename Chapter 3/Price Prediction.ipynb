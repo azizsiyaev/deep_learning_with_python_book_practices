{
 "cells": [
  {
   "cell_type": "code",
   "execution_count": 1,
   "metadata": {},
   "outputs": [
    {
     "name": "stderr",
     "output_type": "stream",
     "text": [
      "Using TensorFlow backend.\n"
     ]
    }
   ],
   "source": [
    "from keras.datasets import boston_housing\n",
    "(train_data, train_targets), (test_data, test_targets) = boston_housing.load_data()"
   ]
  },
  {
   "cell_type": "code",
   "execution_count": 2,
   "metadata": {},
   "outputs": [
    {
     "name": "stdout",
     "output_type": "stream",
     "text": [
      "(404, 13)\n"
     ]
    }
   ],
   "source": [
    "print(train_data.shape)"
   ]
  },
  {
   "cell_type": "code",
   "execution_count": 3,
   "metadata": {},
   "outputs": [
    {
     "name": "stdout",
     "output_type": "stream",
     "text": [
      "(102, 13)\n"
     ]
    }
   ],
   "source": [
    "print(test_data.shape)"
   ]
  },
  {
   "cell_type": "code",
   "execution_count": 4,
   "metadata": {},
   "outputs": [
    {
     "name": "stdout",
     "output_type": "stream",
     "text": [
      "[  1.23247   0.        8.14      0.        0.538     6.142    91.7\n",
      "   3.9769    4.      307.       21.      396.9      18.72   ]\n"
     ]
    }
   ],
   "source": [
    "print(train_data[0])"
   ]
  },
  {
   "cell_type": "code",
   "execution_count": 5,
   "metadata": {},
   "outputs": [
    {
     "name": "stdout",
     "output_type": "stream",
     "text": [
      "15.2\n"
     ]
    }
   ],
   "source": [
    "print(train_targets[0])"
   ]
  },
  {
   "cell_type": "code",
   "execution_count": 6,
   "metadata": {},
   "outputs": [],
   "source": [
    "mean = train_data.mean(axis=0)\n",
    "train_data -= mean\n",
    "std = train_data.std(axis=0)\n",
    "train_data /= std\n",
    "\n",
    "test_data -= mean\n",
    "test_data /= std"
   ]
  },
  {
   "cell_type": "code",
   "execution_count": 7,
   "metadata": {},
   "outputs": [
    {
     "name": "stdout",
     "output_type": "stream",
     "text": [
      "[-0.27224633 -0.48361547 -0.43576161 -0.25683275 -0.1652266  -0.1764426\n",
      "  0.81306188  0.1166983  -0.62624905 -0.59517003  1.14850044  0.44807713\n",
      "  0.8252202 ]\n"
     ]
    }
   ],
   "source": [
    "print(train_data[0])"
   ]
  },
  {
   "cell_type": "code",
   "execution_count": 8,
   "metadata": {},
   "outputs": [],
   "source": [
    "from keras import models\n",
    "from keras import layers\n",
    "\n",
    "def build_model():\n",
    "    model = models.Sequential()\n",
    "    model.add(layers.Dense(64, activation='relu', input_shape = (train_data.shape[1], )))\n",
    "    model.add(layers.Dense(64, activation='relu'))\n",
    "    model.add(layers.Dense(1))\n",
    "    \n",
    "    model.compile(optimizer='rmsprop', loss='mse', metrics=['mae'])\n",
    "    \n",
    "    return model\n",
    "\n",
    "\n"
   ]
  },
  {
   "cell_type": "code",
   "execution_count": 17,
   "metadata": {},
   "outputs": [
    {
     "name": "stdout",
     "output_type": "stream",
     "text": [
      "Processing fold#0\n",
      "Processing fold#1\n",
      "Processing fold#2\n",
      "Processing fold#3\n"
     ]
    }
   ],
   "source": [
    "import numpy as np\n",
    "\n",
    "\n",
    "import os\n",
    "os.environ[\"CUDA_DEVICE_ORDER\"] = \"PCI_BUS_ID\"\n",
    "os.environ[\"CUDA_VISIBLE_DEVICES\"] = \"0\"\n",
    "\n",
    "k = 4\n",
    "num_val_samples = len(train_data) // k\n",
    "num_epochs = 500\n",
    "all_mae_histories = []\n",
    "\n",
    "for i in range(k):\n",
    "    print('Processing fold#' + str(i))\n",
    "    val_data = train_data[i * num_val_samples : (i + 1) * num_val_samples]\n",
    "    val_targets = train_targets[i * num_val_samples : (i + 1) * num_val_samples]\n",
    "    \n",
    "    partial_train_data = np.concatenate(\n",
    "        [train_data[:i * num_val_samples], train_data[(i + 1) * num_val_samples:]], axis=0)\n",
    "    \n",
    "    partial_train_targets = np.concatenate(\n",
    "        [train_targets[:i * num_val_samples], train_targets[(i + 1) * num_val_samples:]], axis=0)\n",
    "    \n",
    "    model = build_model()\n",
    "    \n",
    "    history = model.fit(partial_train_data, partial_train_targets,\n",
    "                        validation_data = (val_data, val_targets),\n",
    "                        epochs = num_epochs, batch_size = 1, verbose = 0)\n",
    "    \n",
    "    mae_history = history.history['val_mean_absolute_error']\n",
    "    all_mae_histories.append(mae_history)"
   ]
  },
  {
   "cell_type": "code",
   "execution_count": 18,
   "metadata": {},
   "outputs": [],
   "source": [
    "average_mae_history = [np.mean([x[i] for x in all_mae_histories]) for i in range(num_epochs)]"
   ]
  },
  {
   "cell_type": "code",
   "execution_count": 19,
   "metadata": {},
   "outputs": [
    {
     "data": {
      "image/png": "[encoded data removed]",
      "text/plain": [
       "<Figure size 432x288 with 1 Axes>"
      ]
     },
     "metadata": {
      "needs_background": "light"
     },
     "output_type": "display_data"
    }
   ],
   "source": [
    "import matplotlib.pyplot as plt\n",
    "%matplotlib inline\n",
    "\n",
    "plt.plot(range(1, len(average_mae_history) + 1), average_mae_history)\n",
    "plt.xlabel('Epochs')\n",
    "plt.ylabel('Validation MAE')\n",
    "plt.show()"
   ]
  },
  {
   "cell_type": "code",
   "execution_count": 20,
   "metadata": {},
   "outputs": [],
   "source": [
    "def smooth_curve(points, factor=0.9):\n",
    "    smoothed_points = []\n",
    "    for point in points:\n",
    "        if smoothed_points:\n",
    "            previous = smoothed_points[-1]\n",
    "            smoothed_points.append(previous * factor + point * (1 - factor))\n",
    "        else:\n",
    "            smoothed_points.append(point)\n",
    "    return smoothed_points"
   ]
  },
  {
   "cell_type": "code",
   "execution_count": 21,
   "metadata": {},
   "outputs": [
    {
     "data": {
      "image/png": "[encoded data removed]",
      "text/plain": [
       "<Figure size 432x288 with 1 Axes>"
      ]
     },
     "metadata": {
      "needs_background": "light"
     },
     "output_type": "display_data"
    }
   ],
   "source": [
    "smoothed_mae_history = smooth_curve(average_mae_history[10: ])\n",
    "\n",
    "plt.plot(range(1, len(smoothed_mae_history) + 1), smoothed_mae_history)\n",
    "plt.xlabel('Epochs')\n",
    "plt.ylabel('Validation MAE')\n",
    "plt.show()"
   ]
  },
  {
   "cell_type": "code",
   "execution_count": 24,
   "metadata": {
    "collapsed": true
   },
   "outputs": [
    {
     "name": "stdout",
     "output_type": "stream",
     "text": [
      "Epoch 1/80\n",
      "404/404 [==============================] - 0s 931us/step - loss: 495.1821 - mean_absolute_error: 20.1802\n",
      "Epoch 2/80\n",
      "404/404 [==============================] - 0s 126us/step - loss: 312.3985 - mean_absolute_error: 15.3998\n",
      "Epoch 3/80\n",
      "404/404 [==============================] - 0s 122us/step - loss: 149.8975 - mean_absolute_error: 9.8676\n",
      "Epoch 4/80\n",
      "404/404 [==============================] - 0s 124us/step - loss: 68.1411 - mean_absolute_error: 6.2106\n",
      "Epoch 5/80\n",
      "404/404 [==============================] - 0s 130us/step - loss: 43.2065 - mean_absolute_error: 4.7109\n",
      "Epoch 6/80\n",
      "404/404 [==============================] - 0s 109us/step - loss: 32.6847 - mean_absolute_error: 4.0353\n",
      "Epoch 7/80\n",
      "404/404 [==============================] - 0s 131us/step - loss: 27.4464 - mean_absolute_error: 3.6445\n",
      "Epoch 8/80\n",
      "404/404 [==============================] - 0s 120us/step - loss: 23.9708 - mean_absolute_error: 3.4708\n",
      "Epoch 9/80\n",
      "404/404 [==============================] - 0s 128us/step - loss: 21.8505 - mean_absolute_error: 3.2753\n",
      "Epoch 10/80\n",
      "404/404 [==============================] - 0s 167us/step - loss: 19.6682 - mean_absolute_error: 3.1274\n",
      "Epoch 11/80\n",
      "404/404 [==============================] - 0s 125us/step - loss: 18.5192 - mean_absolute_error: 2.9980\n",
      "Epoch 12/80\n",
      "404/404 [==============================] - 0s 117us/step - loss: 16.8630 - mean_absolute_error: 2.8786\n",
      "Epoch 13/80\n",
      "404/404 [==============================] - 0s 122us/step - loss: 15.5775 - mean_absolute_error: 2.7979\n",
      "Epoch 14/80\n",
      "404/404 [==============================] - 0s 131us/step - loss: 14.3065 - mean_absolute_error: 2.6931\n",
      "Epoch 15/80\n",
      "404/404 [==============================] - 0s 118us/step - loss: 13.9395 - mean_absolute_error: 2.6550\n",
      "Epoch 16/80\n",
      "404/404 [==============================] - 0s 131us/step - loss: 12.9544 - mean_absolute_error: 2.5679\n",
      "Epoch 17/80\n",
      "404/404 [==============================] - 0s 129us/step - loss: 12.2789 - mean_absolute_error: 2.4941\n",
      "Epoch 18/80\n",
      "404/404 [==============================] - 0s 131us/step - loss: 11.7523 - mean_absolute_error: 2.4066\n",
      "Epoch 19/80\n",
      "404/404 [==============================] - 0s 128us/step - loss: 11.4001 - mean_absolute_error: 2.3717\n",
      "Epoch 20/80\n",
      "404/404 [==============================] - 0s 130us/step - loss: 10.9509 - mean_absolute_error: 2.3392\n",
      "Epoch 21/80\n",
      "404/404 [==============================] - 0s 128us/step - loss: 10.8683 - mean_absolute_error: 2.3144\n",
      "Epoch 22/80\n",
      "404/404 [==============================] - 0s 125us/step - loss: 10.6146 - mean_absolute_error: 2.3217\n",
      "Epoch 23/80\n",
      "404/404 [==============================] - 0s 193us/step - loss: 10.1634 - mean_absolute_error: 2.3201\n",
      "Epoch 24/80\n",
      "404/404 [==============================] - 0s 180us/step - loss: 10.2943 - mean_absolute_error: 2.2565\n",
      "Epoch 25/80\n",
      "404/404 [==============================] - 0s 181us/step - loss: 9.8016 - mean_absolute_error: 2.2410\n",
      "Epoch 26/80\n",
      "404/404 [==============================] - 0s 170us/step - loss: 9.6154 - mean_absolute_error: 2.1765\n",
      "Epoch 27/80\n",
      "404/404 [==============================] - 0s 169us/step - loss: 9.7178 - mean_absolute_error: 2.1940\n",
      "Epoch 28/80\n",
      "404/404 [==============================] - 0s 166us/step - loss: 9.3474 - mean_absolute_error: 2.1393\n",
      "Epoch 29/80\n",
      "404/404 [==============================] - 0s 145us/step - loss: 9.2771 - mean_absolute_error: 2.1615\n",
      "Epoch 30/80\n",
      "404/404 [==============================] - 0s 139us/step - loss: 9.1454 - mean_absolute_error: 2.1246\n",
      "Epoch 31/80\n",
      "404/404 [==============================] - 0s 143us/step - loss: 9.0941 - mean_absolute_error: 2.1306\n",
      "Epoch 32/80\n",
      "404/404 [==============================] - 0s 121us/step - loss: 8.9039 - mean_absolute_error: 2.0812\n",
      "Epoch 33/80\n",
      "404/404 [==============================] - 0s 128us/step - loss: 8.8625 - mean_absolute_error: 2.1108\n",
      "Epoch 34/80\n",
      "404/404 [==============================] - 0s 126us/step - loss: 8.7839 - mean_absolute_error: 2.0889\n",
      "Epoch 35/80\n",
      "404/404 [==============================] - 0s 119us/step - loss: 8.6150 - mean_absolute_error: 2.0636\n",
      "Epoch 36/80\n",
      "404/404 [==============================] - 0s 121us/step - loss: 8.5403 - mean_absolute_error: 2.0910\n",
      "Epoch 37/80\n",
      "404/404 [==============================] - 0s 115us/step - loss: 8.3571 - mean_absolute_error: 2.0473\n",
      "Epoch 38/80\n",
      "404/404 [==============================] - 0s 122us/step - loss: 8.5053 - mean_absolute_error: 2.0374\n",
      "Epoch 39/80\n",
      "404/404 [==============================] - 0s 126us/step - loss: 8.3691 - mean_absolute_error: 2.0473\n",
      "Epoch 40/80\n",
      "404/404 [==============================] - 0s 137us/step - loss: 8.1639 - mean_absolute_error: 2.0116\n",
      "Epoch 41/80\n",
      "404/404 [==============================] - 0s 163us/step - loss: 7.8970 - mean_absolute_error: 1.9823\n",
      "Epoch 42/80\n",
      "404/404 [==============================] - 0s 133us/step - loss: 7.9794 - mean_absolute_error: 1.9963\n",
      "Epoch 43/80\n",
      "404/404 [==============================] - 0s 138us/step - loss: 7.7853 - mean_absolute_error: 2.0072\n",
      "Epoch 44/80\n",
      "404/404 [==============================] - 0s 125us/step - loss: 8.0249 - mean_absolute_error: 2.0089\n",
      "Epoch 45/80\n",
      "404/404 [==============================] - 0s 128us/step - loss: 7.5927 - mean_absolute_error: 1.9236\n",
      "Epoch 46/80\n",
      "404/404 [==============================] - 0s 132us/step - loss: 7.7700 - mean_absolute_error: 1.9558\n",
      "Epoch 47/80\n",
      "404/404 [==============================] - 0s 120us/step - loss: 7.7141 - mean_absolute_error: 1.9693\n",
      "Epoch 48/80\n",
      "404/404 [==============================] - 0s 134us/step - loss: 7.6532 - mean_absolute_error: 1.9393\n",
      "Epoch 49/80\n",
      "404/404 [==============================] - 0s 111us/step - loss: 7.4490 - mean_absolute_error: 1.8950\n",
      "Epoch 50/80\n",
      "404/404 [==============================] - 0s 148us/step - loss: 7.4695 - mean_absolute_error: 1.9230\n",
      "Epoch 51/80\n",
      "404/404 [==============================] - 0s 120us/step - loss: 7.3951 - mean_absolute_error: 1.9363\n",
      "Epoch 52/80\n",
      "404/404 [==============================] - 0s 114us/step - loss: 7.4385 - mean_absolute_error: 1.9198\n",
      "Epoch 53/80\n",
      "404/404 [==============================] - 0s 123us/step - loss: 7.3901 - mean_absolute_error: 1.9014\n",
      "Epoch 54/80\n",
      "404/404 [==============================] - 0s 155us/step - loss: 7.1619 - mean_absolute_error: 1.8998\n",
      "Epoch 55/80\n",
      "404/404 [==============================] - 0s 126us/step - loss: 7.1324 - mean_absolute_error: 1.8895\n",
      "Epoch 56/80\n",
      "404/404 [==============================] - 0s 139us/step - loss: 7.0847 - mean_absolute_error: 1.8918\n",
      "Epoch 57/80\n",
      "404/404 [==============================] - 0s 124us/step - loss: 7.0703 - mean_absolute_error: 1.8871\n",
      "Epoch 58/80\n",
      "404/404 [==============================] - 0s 146us/step - loss: 7.0410 - mean_absolute_error: 1.8764\n",
      "Epoch 59/80\n",
      "404/404 [==============================] - 0s 127us/step - loss: 6.9292 - mean_absolute_error: 1.8428\n",
      "Epoch 60/80\n",
      "404/404 [==============================] - 0s 126us/step - loss: 6.8390 - mean_absolute_error: 1.8775\n",
      "Epoch 61/80\n",
      "404/404 [==============================] - 0s 114us/step - loss: 6.9857 - mean_absolute_error: 1.8640\n",
      "Epoch 62/80\n",
      "404/404 [==============================] - 0s 148us/step - loss: 6.8364 - mean_absolute_error: 1.8371\n",
      "Epoch 63/80\n",
      "404/404 [==============================] - 0s 124us/step - loss: 6.7909 - mean_absolute_error: 1.8424\n",
      "Epoch 64/80\n",
      "404/404 [==============================] - 0s 126us/step - loss: 6.6356 - mean_absolute_error: 1.8333\n",
      "Epoch 65/80\n",
      "404/404 [==============================] - 0s 107us/step - loss: 6.5445 - mean_absolute_error: 1.8142\n",
      "Epoch 66/80\n",
      "404/404 [==============================] - 0s 129us/step - loss: 6.8591 - mean_absolute_error: 1.8350\n",
      "Epoch 67/80\n",
      "404/404 [==============================] - 0s 145us/step - loss: 6.5284 - mean_absolute_error: 1.7952\n",
      "Epoch 68/80\n",
      "404/404 [==============================] - 0s 130us/step - loss: 6.3781 - mean_absolute_error: 1.7877\n",
      "Epoch 69/80\n",
      "404/404 [==============================] - 0s 122us/step - loss: 6.3151 - mean_absolute_error: 1.7931\n",
      "Epoch 70/80\n",
      "404/404 [==============================] - 0s 119us/step - loss: 6.2670 - mean_absolute_error: 1.7612\n",
      "Epoch 71/80\n",
      "404/404 [==============================] - 0s 128us/step - loss: 6.4725 - mean_absolute_error: 1.7955\n",
      "Epoch 72/80\n"
     ]
    },
    {
     "name": "stdout",
     "output_type": "stream",
     "text": [
      "404/404 [==============================] - 0s 131us/step - loss: 6.2892 - mean_absolute_error: 1.7663\n",
      "Epoch 73/80\n",
      "404/404 [==============================] - 0s 113us/step - loss: 6.1775 - mean_absolute_error: 1.7368\n",
      "Epoch 74/80\n",
      "404/404 [==============================] - 0s 113us/step - loss: 6.1583 - mean_absolute_error: 1.7379\n",
      "Epoch 75/80\n",
      "404/404 [==============================] - 0s 113us/step - loss: 6.0961 - mean_absolute_error: 1.7314\n",
      "Epoch 76/80\n",
      "404/404 [==============================] - 0s 104us/step - loss: 6.0208 - mean_absolute_error: 1.7462\n",
      "Epoch 77/80\n",
      "404/404 [==============================] - 0s 108us/step - loss: 6.1627 - mean_absolute_error: 1.7411\n",
      "Epoch 78/80\n",
      "404/404 [==============================] - 0s 99us/step - loss: 6.0726 - mean_absolute_error: 1.7584\n",
      "Epoch 79/80\n",
      "404/404 [==============================] - 0s 106us/step - loss: 5.9294 - mean_absolute_error: 1.6941\n",
      "Epoch 80/80\n",
      "404/404 [==============================] - 0s 101us/step - loss: 5.8425 - mean_absolute_error: 1.7263\n"
     ]
    },
    {
     "data": {
      "text/plain": [
       "<keras.callbacks.History at 0x7fbc851337f0>"
      ]
     },
     "execution_count": 24,
     "metadata": {},
     "output_type": "execute_result"
    }
   ],
   "source": [
    "model = build_model()\n",
    "model.fit(train_data, \n",
    "          train_targets, \n",
    "          epochs = 80, \n",
    "          batch_size = 16, \n",
    "          verbose = 1)"
   ]
  },
  {
   "cell_type": "code",
   "execution_count": 25,
   "metadata": {},
   "outputs": [
    {
     "name": "stdout",
     "output_type": "stream",
     "text": [
      "102/102 [==============================] - 0s 976us/step\n",
      "2.7489338388629987\n"
     ]
    }
   ],
   "source": [
    "test_mse_score, test_mae_score = model.evaluate(test_data, test_targets)\n",
    "print(test_mae_score)"
   ]
  },
  {
   "cell_type": "code",
   "execution_count": 28,
   "metadata": {},
   "outputs": [
    {
     "name": "stdout",
     "output_type": "stream",
     "text": [
      "[8.603659]\n"
     ]
    }
   ],
   "source": [
    "print(model.predict(test_data)[0])"
   ]
  },
  {
   "cell_type": "code",
   "execution_count": 29,
   "metadata": {},
   "outputs": [
    {
     "name": "stdout",
     "output_type": "stream",
     "text": [
      "Sat Jan  5 11:14:13 2019       \r\n",
      "+-----------------------------------------------------------------------------+\r\n",
      "| NVIDIA-SMI 410.79       Driver Version: 410.79       CUDA Version: 10.0     |\r\n",
      "|-------------------------------+----------------------+----------------------+\r\n",
      "| GPU  Name        Persistence-M| Bus-Id        Disp.A | Volatile Uncorr. ECC |\r\n",
      "| Fan  Temp  Perf  Pwr:Usage/Cap|         Memory-Usage | GPU-Util  Compute M. |\r\n",
      "|===============================+======================+======================|\r\n",
      "|   0  GeForce RTX 208...  Off  | 00000000:01:00.0  On |                  N/A |\r\n",
      "| 35%   39C    P8    21W / 260W |  10532MiB / 10981MiB |      4%      Default |\r\n",
      "+-------------------------------+----------------------+----------------------+\r\n",
      "                                                                               \r\n",
      "+-----------------------------------------------------------------------------+\r\n",
      "| Processes:                                                       GPU Memory |\r\n",
      "|  GPU       PID   Type   Process name                             Usage      |\r\n",
      "|=============================================================================|\r\n",
      "+-----------------------------------------------------------------------------+\r\n"
     ]
    }
   ],
   "source": [
    "!nvidia-smi"
   ]
  },
  {
   "cell_type": "code",
   "execution_count": null,
   "metadata": {},
   "outputs": [],
   "source": []
  }
 ],
 "metadata": {
  "kernelspec": {
   "display_name": "Python 3",
   "language": "python",
   "name": "python3"
  },
  "language_info": {
   "codemirror_mode": {
    "name": "ipython",
    "version": 3
   },
   "file_extension": ".py",
   "mimetype": "text/x-python",
   "name": "python",
   "nbconvert_exporter": "python",
   "pygments_lexer": "ipython3",
   "version": "3.5.2"
  }
 },
 "nbformat": 4,
 "nbformat_minor": 2
}
